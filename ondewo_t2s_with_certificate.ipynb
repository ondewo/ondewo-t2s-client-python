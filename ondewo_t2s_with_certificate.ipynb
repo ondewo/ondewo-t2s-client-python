{
  "nbformat": 4,
  "nbformat_minor": 0,
  "metadata": {
    "colab": {
      "name": "ondewo-t2s-with-certificate.ipynb",
      "provenance": []
    },
    "kernelspec": {
      "name": "python3",
      "display_name": "Python 3"
    },
    "language_info": {
      "name": "python"
    }
  },
  "cells": [
    {
      "cell_type": "markdown",
      "metadata": {
        "id": "ZKWBIVdK_r0Z"
      },
      "source": [
        "## **Text2Speech T2S API Tutorial**\n",
        "\n",
        "This tutorial uses ondewo-t2s-api to:\n",
        "\n",
        "\n",
        "*   Synthesize a text to audio\n",
        "*   Synthesize a batch of texts to audios\n",
        "*   List the possible pipelines that can be used for synthesizing\n",
        "*   List the possible languages that can be used in the synthesize process\n",
        "*   List the possible domains\n",
        "*   Manipulate pipelines (Create, Delete, Update, Get)\n",
        "\n"
      ]
    },
    {
      "cell_type": "markdown",
      "metadata": {
        "id": "B1XCpNfWHShP"
      },
      "source": [
        "Import useful dependencies\n"
      ]
    },
    {
      "cell_type": "code",
      "metadata": {
        "colab": {
          "base_uri": "https://localhost:8080/",
          "height": 367
        },
        "id": "u05mpboMICjZ",
        "outputId": "99ff4c2b-fa36-4aa2-b39a-6f5999bee840"
      },
      "source": [
        "import os\n",
        "import io\n",
        "import soundfile as sf\n",
        "import IPython.display as ipd\n",
        "import grpc\n",
        "from ondewo_grpc.ondewo.t2s import text_to_speech_pb2, text_to_speech_pb2_grpc\n",
        "import google.protobuf.empty_pb2 as empty_pb2\n",
        "from google.protobuf.json_format import ParseDict, MessageToDict, MessageToJson"
      ],
      "execution_count": null,
      "outputs": [
        {
          "output_type": "error",
          "ename": "ModuleNotFoundError",
          "evalue": "ignored",
          "traceback": [
            "\u001b[0;31m---------------------------------------------------------------------------\u001b[0m",
            "\u001b[0;31mModuleNotFoundError\u001b[0m                       Traceback (most recent call last)",
            "\u001b[0;32m<ipython-input-3-eb3353229b97>\u001b[0m in \u001b[0;36m<module>\u001b[0;34m()\u001b[0m\n\u001b[1;32m      4\u001b[0m \u001b[0;32mimport\u001b[0m \u001b[0mIPython\u001b[0m\u001b[0;34m.\u001b[0m\u001b[0mdisplay\u001b[0m \u001b[0;32mas\u001b[0m \u001b[0mipd\u001b[0m\u001b[0;34m\u001b[0m\u001b[0;34m\u001b[0m\u001b[0m\n\u001b[1;32m      5\u001b[0m \u001b[0;32mimport\u001b[0m \u001b[0mgrpc\u001b[0m\u001b[0;34m\u001b[0m\u001b[0;34m\u001b[0m\u001b[0m\n\u001b[0;32m----> 6\u001b[0;31m \u001b[0;32mfrom\u001b[0m \u001b[0mondewo_grpc\u001b[0m\u001b[0;34m.\u001b[0m\u001b[0mondewo\u001b[0m\u001b[0;34m.\u001b[0m\u001b[0mt2s\u001b[0m \u001b[0;32mimport\u001b[0m \u001b[0mtext_to_speech_pb2\u001b[0m\u001b[0;34m,\u001b[0m \u001b[0mtext_to_speech_pb2_grpc\u001b[0m\u001b[0;34m\u001b[0m\u001b[0;34m\u001b[0m\u001b[0m\n\u001b[0m\u001b[1;32m      7\u001b[0m \u001b[0;32mimport\u001b[0m \u001b[0mgoogle\u001b[0m\u001b[0;34m.\u001b[0m\u001b[0mprotobuf\u001b[0m\u001b[0;34m.\u001b[0m\u001b[0mempty_pb2\u001b[0m \u001b[0;32mas\u001b[0m \u001b[0mempty_pb2\u001b[0m\u001b[0;34m\u001b[0m\u001b[0;34m\u001b[0m\u001b[0m\n\u001b[1;32m      8\u001b[0m \u001b[0;32mfrom\u001b[0m \u001b[0mgoogle\u001b[0m\u001b[0;34m.\u001b[0m\u001b[0mprotobuf\u001b[0m\u001b[0;34m.\u001b[0m\u001b[0mjson_format\u001b[0m \u001b[0;32mimport\u001b[0m \u001b[0mParseDict\u001b[0m\u001b[0;34m,\u001b[0m \u001b[0mMessageToDict\u001b[0m\u001b[0;34m,\u001b[0m \u001b[0mMessageToJson\u001b[0m\u001b[0;34m\u001b[0m\u001b[0;34m\u001b[0m\u001b[0m\n",
            "\u001b[0;31mModuleNotFoundError\u001b[0m: No module named 'ondewo_grpc'",
            "",
            "\u001b[0;31m---------------------------------------------------------------------------\u001b[0;32m\nNOTE: If your import is failing due to a missing package, you can\nmanually install dependencies using either !pip or !apt.\n\nTo view examples of installing some common dependencies, click the\n\"Open Examples\" button below.\n\u001b[0;31m---------------------------------------------------------------------------\u001b[0m\n"
          ],
          "errorDetails": {
            "actions": [
              {
                "action": "open_url",
                "actionText": "Open Examples",
                "url": "/notebooks/snippets/importing_libraries.ipynb"
              }
            ]
          }
        }
      ]
    },
    {
      "cell_type": "markdown",
      "metadata": {
        "id": "7Bd6DqBQIQfY"
      },
      "source": [
        "Make sure you are in \"ondewo-t2s-client-python\" folder"
      ]
    },
    {
      "cell_type": "code",
      "metadata": {
        "colab": {
          "base_uri": "https://localhost:8080/",
          "height": 35
        },
        "id": "Ayqp-M2pIs1J",
        "outputId": "3ac7d99e-fcdd-4460-f96a-66bb7691029b"
      },
      "source": [
        "os.chdir('../')\n",
        "os.getcwd()"
      ],
      "execution_count": null,
      "outputs": [
        {
          "output_type": "execute_result",
          "data": {
            "application/vnd.google.colaboratory.intrinsic+json": {
              "type": "string"
            },
            "text/plain": [
              "'/'"
            ]
          },
          "metadata": {},
          "execution_count": 4
        }
      ]
    },
    {
      "cell_type": "markdown",
      "metadata": {
        "id": "v9Dsp0u7JE-y"
      },
      "source": [
        "Set up the parameters of the grpc server. The example below is for the case when server is running locally"
      ]
    },
    {
      "cell_type": "code",
      "metadata": {
        "id": "tQ4eTNYLJY0W"
      },
      "source": [
        "MAX_MESSAGE_LENGTH: int = 60000000\n",
        "GRPC_HOST: str = \"localhost\"\n",
        "GRPC_PORT: str = \"50555\"\n",
        "CHANNEL: str = f\"{GRPC_HOST}:{GRPC_PORT}\"\n",
        "\n",
        "options = [\n",
        "    ('grpc.max_send_message_length', MAX_MESSAGE_LENGTH),\n",
        "    ('grpc.max_receive_message_length', MAX_MESSAGE_LENGTH),\n",
        "]\n",
        "\n",
        "\n",
        "channel = grpc.insecure_channel(CHANNEL, options=options)\n",
        "stab = text_to_speech_pb2_grpc.Text2SpeechStub(channel=channel)"
      ],
      "execution_count": null,
      "outputs": []
    },
    {
      "cell_type": "markdown",
      "metadata": {
        "id": "kD27LELbJjxg"
      },
      "source": [
        "# List all t2s pipelines present on the server"
      ]
    },
    {
      "cell_type": "code",
      "metadata": {
        "id": "MkgvlYO7JmX_"
      },
      "source": [
        "pipelines = stab.ListT2sPipelines(request=empty_pb2.Empty()).pipelines\n",
        "pipelines"
      ],
      "execution_count": null,
      "outputs": []
    },
    {
      "cell_type": "code",
      "metadata": {
        "id": "YDd7JBe3J4y1"
      },
      "source": [
        "english_pipeline = find_pipeline_for_language(pipelines=pipelines, language='en')\n",
        "german_pipeline = find_pipeline_for_language(pipelines=pipelines, language='de')"
      ],
      "execution_count": null,
      "outputs": []
    },
    {
      "cell_type": "markdown",
      "metadata": {
        "id": "7kcutwJDLTs-"
      },
      "source": [
        "# Make synthesize request to the server to get audio for given text\n",
        "\n",
        "### Configuration message: \n",
        "\n",
        "*   t2s_pipeline_id: Its required and represents the pipeline id of the model configuration that will be used.\n",
        "*   length_scale: Its optional and it changes the speed or duration of an audio.\n",
        "*   noise_scale: Its optional and defines the noise in the generated audio.\n",
        "*   sample_rate: Its optional and defines the sample rate of the generated file.\n",
        "*   pcm: Its optional and defines the pulse-code modulation of the file (The number of times per second that samples are taken).\n",
        "\n"
      ]
    },
    {
      "cell_type": "code",
      "metadata": {
        "id": "-UrYguj_L3dx"
      },
      "source": [
        "config = text_to_speech_pb2.RequestConfig(t2s_pipeline_id=german_pipeline.id, length_scale = 1.0, pcm=0, audio_format= 0)\n",
        "request = text_to_speech_pb2.SynthesizeRequest(text='Hallo, wie geht es dir?', config=config)\n",
        "response = stab.Synthesize(request=request)\n",
        "\n",
        "print(f'Length of the generated audio is {response.audio_length} sec.', f'Generation time is {response.generation_time} sec.')\n",
        "print(f'The text was synthesized with the following configuration \\n{config}')\n",
        "\n",
        "bio = io.BytesIO(response.audio)\n",
        "audio = sf.read(bio, )\n",
        "ipd.Audio(audio[0], rate=audio[1])"
      ],
      "execution_count": null,
      "outputs": []
    },
    {
      "cell_type": "markdown",
      "metadata": {
        "id": "Clw42MPNMBfi"
      },
      "source": [
        "## Adding length scale parameter to make speech faster or slower"
      ]
    },
    {
      "cell_type": "code",
      "metadata": {
        "id": "y2gQ8YUzMFMp"
      },
      "source": [
        "config = text_to_speech_pb2.RequestConfig(t2s_pipeline_id=english_pipeline.id, length_scale=0.5)\n",
        "request = text_to_speech_pb2.SynthesizeRequest(text='Hi, how are you?', config = config)\n",
        "response = stab.Synthesize(request=request)\n",
        "\n",
        "print(f'Length of the generated audio is {response.audio_length} sec.', f'Generation time is {response.generation_time} sec.')\n",
        "print(f'The text was synthesized with the following configuration \\n{response.config}')\n",
        "bio = io.BytesIO(response.audio)\n",
        "audio = sf.read(bio)\n",
        "ipd.Audio(audio[0], rate=audio[1])"
      ],
      "execution_count": null,
      "outputs": []
    },
    {
      "cell_type": "markdown",
      "metadata": {
        "id": "ESk4vzJbMUWy"
      },
      "source": [
        "## Make synthesize request to the server to get audios for a Batch of given texts with same configuration"
      ]
    },
    {
      "cell_type": "code",
      "metadata": {
        "id": "RPLvzSwKMWSS"
      },
      "source": [
        "config = text_to_speech_pb2.RequestConfig(t2s_pipeline_id=english_pipeline.id, length_scale = 1.0, pcm=0, audio_format= 0)\n",
        "request = text_to_speech_pb2.BatchSynthesizeRequest(text=['Hello','How are you?','See you later'], config=[config])\n",
        "batch_response = stab.BatchSynthesize(request=request)\n",
        "\n",
        "while( hasattr(batch_response, \"response\") ):\n",
        "  for response in batch_response.response:\n",
        "    print(f'Length of the generated audio is {response.audio_length} sec.', f'Generation time is {response.generation_time} sec.')\n",
        "    print(f'The text was synthesized with the following configuration \\n{response.config}')\n",
        "    bio = io.BytesIO(response.audio)\n",
        "    audio = sf.read(bio, )\n",
        "    ipd.Audio(audio[0], rate=audio[1])\n",
        "    batch_response = response"
      ],
      "execution_count": null,
      "outputs": []
    },
    {
      "cell_type": "markdown",
      "metadata": {
        "id": "hQxS915SMlDa"
      },
      "source": [
        "## Make synthesize request to the server to get audios for a Batch of given texts with different configurations"
      ]
    },
    {
      "cell_type": "code",
      "metadata": {
        "id": "V2qYEIZBMoF3"
      },
      "source": [
        "config_1 = text_to_speech_pb2.RequestConfig(t2s_pipeline_id=english_pipeline.id, length_scale = 1.0, pcm=0, audio_format= 0)\n",
        "config_2 = text_to_speech_pb2.RequestConfig(t2s_pipeline_id=english_pipeline.id, length_scale = 1.0, pcm=0, audio_format= 1)\n",
        "config_3 = text_to_speech_pb2.RequestConfig(t2s_pipeline_id=german_pipeline.id, length_scale = 1.0, pcm=1, audio_format= 0)\n",
        "request = text_to_speech_pb2.BatchSynthesizeRequest(text=['Hello','How are you?','Hallo, wie geht es dir?'], config=[config_1,config_2,config_3])\n",
        "batch_response = stab.BatchSynthesize(request=request)"
      ],
      "execution_count": null,
      "outputs": []
    },
    {
      "cell_type": "code",
      "metadata": {
        "id": "N4jDp8npMrZC"
      },
      "source": [
        "while( hasattr(batch_response, \"response\") ):\n",
        "  for response in batch_response.response:\n",
        "    print(f'Length of the generated audio is {response.audio_length} sec.', f'Generation time is {response.generation_time} sec.')\n",
        "    print(f'The text was synthesized with the following configuration \\n{response.config}')\n",
        "    bio = io.BytesIO(response.audio)\n",
        "    audio = sf.read(bio, )\n",
        "    ipd.Audio(audio[0], rate=audio[1])\n",
        "    batch_response = response"
      ],
      "execution_count": null,
      "outputs": []
    },
    {
      "cell_type": "markdown",
      "metadata": {
        "id": "fcpJCPf9MpZi"
      },
      "source": [
        "## Get pipeline you want to update"
      ]
    },
    {
      "cell_type": "code",
      "metadata": {
        "id": "PcRxSu1yMxzX"
      },
      "source": [
        "request = text_to_speech_pb2.T2sPipelineId(id=english_pipeline.id)\n",
        "pipeline_config = stab.GetT2sPipeline(request=request)"
      ],
      "execution_count": null,
      "outputs": []
    },
    {
      "cell_type": "code",
      "metadata": {
        "id": "prHjxxgIM22X"
      },
      "source": [
        "pipeline_config"
      ],
      "execution_count": null,
      "outputs": []
    },
    {
      "cell_type": "markdown",
      "metadata": {
        "id": "uV0kSvYYNIfq"
      },
      "source": [
        "## Change parameter in the pipeline config. For example default length scale"
      ]
    },
    {
      "cell_type": "markdown",
      "metadata": {
        "id": "txiSzQnkNPf6"
      },
      "source": [
        "pipeline_config.inference.composite_inference.text2mel.glow_tts.length_scale = 2"
      ]
    },
    {
      "cell_type": "markdown",
      "metadata": {
        "id": "x15UsiKpNjbR"
      },
      "source": [
        "## Update pipeline"
      ]
    },
    {
      "cell_type": "code",
      "metadata": {
        "id": "WMVoLpbxNn1I"
      },
      "source": [
        "stab.UpdateT2sPipeline(request=pipeline_config)"
      ],
      "execution_count": null,
      "outputs": []
    },
    {
      "cell_type": "markdown",
      "metadata": {
        "id": "fKlQFJPYOCjY"
      },
      "source": [
        "See if generated audio change according to updated config"
      ]
    },
    {
      "cell_type": "code",
      "metadata": {
        "id": "CVN1-WX0ODaN"
      },
      "source": [
        "config = text_to_speech_pb2.RequestConfig(t2s_pipeline_id= english_pipeline.id)\n",
        "request = text_to_speech_pb2.SynthesizeRequest(text='Hi, how are you?', config = config)\n",
        "response = stab.Synthesize(request=request)\n",
        "\n",
        "print(f'Length of the generated audio is {response.audio_length} sec.', f'Generation time is {response.generation_time} sec.')\n",
        "print(f'The text was synthesized with the following configuration \\n{config}')\n",
        "\n",
        "bio = io.BytesIO(response.audio)\n",
        "audio = sf.read(bio)\n",
        "ipd.Audio(audio[0], rate=audio[1])"
      ],
      "execution_count": null,
      "outputs": []
    },
    {
      "cell_type": "markdown",
      "metadata": {
        "id": "maCyUplUOb71"
      },
      "source": [
        "## Change parameter back to previous (length_scale = 1.0)"
      ]
    },
    {
      "cell_type": "code",
      "metadata": {
        "id": "zdO3VnxXOdlL"
      },
      "source": [
        "request = text_to_speech_pb2.T2sPipelineId(id=english_pipeline.id)\n",
        "pipeline_config = stab.GetT2sPipeline(request=request)\n",
        "pipeline_config.inference.composite_inference.text2mel.glow_tts.length_scale = 1.0\n",
        "stab.UpdateT2sPipeline(request=pipeline_config)"
      ],
      "execution_count": null,
      "outputs": []
    }
  ]
}